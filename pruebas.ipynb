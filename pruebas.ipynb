{
  "nbformat": 4,
  "nbformat_minor": 0,
  "metadata": {
    "colab": {
      "name": "pruebas.ipynb",
      "provenance": [],
      "authorship_tag": "ABX9TyO/PtaUWYuiNHhduP+MX4e2",
      "include_colab_link": true
    },
    "kernelspec": {
      "display_name": "Python 3",
      "name": "python3"
    }
  },
  "cells": [
    {
      "cell_type": "markdown",
      "metadata": {
        "id": "view-in-github",
        "colab_type": "text"
      },
      "source": [
        "<a href=\"https://colab.research.google.com/github/samir141673/pruebas/blob/main/pruebas.ipynb\" target=\"_parent\"><img src=\"https://colab.research.google.com/assets/colab-badge.svg\" alt=\"Open In Colab\"/></a>"
      ]
    },
    {
      "cell_type": "markdown",
      "metadata": {
        "id": "D5rokJ0p7HIF"
      },
      "source": [
        "JUEGO DE :adivine el numero "
      ]
    },
    {
      "cell_type": "code",
      "metadata": {
        "id": "0lC7FOQC8KlJ"
      },
      "source": [
        ""
      ],
      "execution_count": null,
      "outputs": []
    },
    {
      "cell_type": "code",
      "metadata": {
        "id": "suCsn2EV7Eam",
        "colab": {
          "base_uri": "https://localhost:8080/",
          "height": 84
        },
        "outputId": "86dc3796-7203-4c75-a86a-6ed20108f145"
      },
      "source": [
        "import random\n",
        "secreto= int(input(\"ingrese el numero a adivinar\"))\n",
        "adivinar=random.randint(1,10) #numero aleatorio del 1 al 10\n",
        "while(True):\n",
        "  if(secreto==adivinar):\n",
        "    print(\"acertaste...\")\n",
        "    break\n",
        "  elif(secreto<adivinar):\n",
        "    print(\"el numero es mayor\")\n",
        "    secreto= int(input(\"ingrese el numero a adivinar\"))\n",
        "  else:\n",
        "    print(\"numero es menor\")\n",
        "    secreto= int(input(\"ingrese el numero a adivinar\"))\n",
        "    \n"
      ],
      "execution_count": null,
      "outputs": [
        {
          "output_type": "stream",
          "text": [
            "ingrese el numero a adivinar5\n",
            "el numero es mayor\n",
            "ingrese el numero a adivinar9\n",
            "acertaste...\n"
          ],
          "name": "stdout"
        }
      ]
    },
    {
      "cell_type": "markdown",
      "metadata": {
        "id": "-XhM8jBlAw5g"
      },
      "source": [
        "JUEGO2 : ADIVINAR EL NOMBRE DE UN JUGADOR TENIENDO EN CUENTA LA PRIMERA Y ULTIMA LETRA"
      ]
    },
    {
      "cell_type": "code",
      "metadata": {
        "id": "MSSY4_DFAvkb",
        "colab": {
          "base_uri": "https://localhost:8080/",
          "height": 383
        },
        "outputId": "4f10be2b-75a7-45a1-f145-5ddb4ac31d8b"
      },
      "source": [
        "import random\n",
        "import sys\n",
        "nombres='Juan,Samir,Karlos,Roberto,Juana,Karla,Dominguez'\n",
        "nombres=nombres.split(',') #convierte en arreglo\n",
        "final=[]\n",
        "for x in nombres:\n",
        "  nombres=x.strip()\n",
        "  final.append(nombres)\n",
        "\n",
        "score=0\n",
        "def adivinar():\n",
        "  global score\n",
        "  print(\"adivinar el nombre\")\n",
        "  print(final)\n",
        "  random_final=random.choice(final).casefold() #muestra el nombre random , case para q no tome en cuenta las mayusculas\n",
        "  print(random_final[0].capitalize() +'-'*(len(random_final)-2)+ random_final[-1])#mustra el primer y ultimo caracter del nombre\n",
        "#capitalize mostrara en mayuscula la primera letra\n",
        "  if(random_final in [\"samir\",\"juan\"]):\n",
        "    print(\"son los mejores estudiantes\")\n",
        "\n",
        "  nombre_adivinar=str(input(\"adivine el nombre de un grupo x \"))\n",
        "  if(nombre_adivinar == random_final):\n",
        "    score+=1\n",
        "    print(\"score\",score)\n",
        "    adivinar()\n",
        "  else:\n",
        "    print(\"upp error {}\".format(random_final))\n",
        "    print(\"tu score es: {}\".format(str(score)))\n",
        "    intentar=str(input(\"te gustaria seguir intentando\")).lower()\n",
        "    if(intentar in [\"yes\",\"si\"]):\n",
        "      score=0\n",
        "      adivinar()\n",
        "    else:\n",
        "      sys.exit(\"bye bye \")\n",
        "adivinar()\n",
        "\n"
      ],
      "execution_count": null,
      "outputs": [
        {
          "output_type": "stream",
          "text": [
            "adivinar el nombre\n",
            "['Juan', 'Samir', 'Karlos', 'Roberto', 'Juana', 'Karla', 'Dominguez']\n",
            "J--n\n",
            "son los mejores estudiantes\n",
            "adivine el nombre de un grupo x juan\n",
            "score 1\n",
            "adivinar el nombre\n",
            "['Juan', 'Samir', 'Karlos', 'Roberto', 'Juana', 'Karla', 'Dominguez']\n",
            "K---a\n",
            "adivine el nombre de un grupo x dominguez\n",
            "upp error karla\n",
            "tu score es: 1\n",
            "te gustaria seguir intentandono\n"
          ],
          "name": "stdout"
        },
        {
          "output_type": "error",
          "ename": "SystemExit",
          "evalue": "ignored",
          "traceback": [
            "An exception has occurred, use %tb to see the full traceback.\n",
            "\u001b[0;31mSystemExit\u001b[0m\u001b[0;31m:\u001b[0m bye bye \n"
          ]
        },
        {
          "output_type": "stream",
          "text": [
            "/usr/local/lib/python3.6/dist-packages/IPython/core/interactiveshell.py:2890: UserWarning: To exit: use 'exit', 'quit', or Ctrl-D.\n",
            "  warn(\"To exit: use 'exit', 'quit', or Ctrl-D.\", stacklevel=1)\n"
          ],
          "name": "stderr"
        }
      ]
    },
    {
      "cell_type": "code",
      "metadata": {
        "id": "H3Swr6yU7U20",
        "colab": {
          "base_uri": "https://localhost:8080/"
        },
        "outputId": "502d58a2-cb62-41e1-dccb-b589bd07b58a"
      },
      "source": [
        "from googlesearch import search\n",
        "busqueda=str(input(\"enter a buscar \"))\n",
        "#for i in search(busqueda, start =0,pause=2): stop da numero de link q queremos q muestre, si queremos q sea infinito ponemos None\n",
        "#for i in search(busqueda, start =0,pause=2,lang='en'):  lang da el idioma es\n",
        "#for i in search(busqueda,tld='com.ar' ,start =0,pause=2): tld lugar donde queremos buscar\n",
        "#for i in search('\"login from\" youtube', start =0,pause=2): link de youtube\n",
        "item=[]\n",
        "for i in search(busqueda,start =0,stop=None,pause=2):\n",
        "  print(i)\n"
      ],
      "execution_count": null,
      "outputs": [
        {
          "output_type": "stream",
          "text": [
            "enter a buscar evolucion de la musica en el peru\n",
            "https://es.wikipedia.org/wiki/M%C3%BAsica_del_Per%C3%BA\n",
            "https://es.wikipedia.org/wiki/M%C3%BAsica_del_Per%C3%BA#Historia\n",
            "https://es.wikipedia.org/wiki/M%C3%BAsica_del_Per%C3%BA#M%C3%BAsica_andina\n",
            "https://es.wikipedia.org/wiki/M%C3%BAsica_del_Per%C3%BA#Canci%C3%B3n_criolla\n",
            "https://es.wikipedia.org/wiki/M%C3%BAsica_del_Per%C3%BA#M%C3%BAsica_acad%C3%A9mica\n",
            "https://digitalcollections.sit.edu/cgi/viewcontent.cgi?article=4134&context=isp_collection\n",
            "https://prezi.com/h12wit77zszs/historia-de-la-musica-en-el-peru/\n",
            "https://www.ulima.edu.pe/pregrado/comunicacion/noticias/la-evolucion-de-la-musica-chicha-en-el-peru\n",
            "https://www.youtube.com/watch?v=U8FHk2rTa2Y\n",
            "https://www.centroculturalpucp.com/images/2.Cursos-Talleres/2019/Syllabus_jovenesyadultos_enero_2019/Syllabus_La_musica_y_su_evolucion%20en%20la_historia_enero_2019.pdf\n",
            "http://revistas.urp.edu.pe/index.php/pluriversidad/article/download/1781/1686/\n",
            "https://www.calameo.com/books/0027953585d52fbf51967\n",
            "http://viajes.machupicchu.org/la_musica_del_peru.htm\n",
            "http://www.chalenavasquez.com/almacen/libros/aquellamamossonido-musica.pdf\n",
            "http://www.minedu.gob.pe/pdf/ed/musica-1.pdf\n",
            "https://www.slideshare.net/mobile/AlfredoEstrada6/historia-musica-peruana\n",
            "https://www.semana.com/contenidos-editoriales/especiales-regionales-peru/articulo/historia-de-la-musica-peruana/532365/\n",
            "http://www.infoartes.pe/wp-content/uploads/2014/12/50-textos-que-dan-muestra-de-nuestra-diversidad-musical.pdf\n",
            "http://revistas.pucp.edu.pe/index.php/historica/article/download/7644/7894\n",
            "https://www.scribd.com/document/324162367/Origen-y-Evolucion-de-La-Musica-en-El-Peru\n",
            "https://emarket.pe/blog/la-musica-en-el-peru-primera-parte/\n",
            "https://puntoseguido.upc.edu.pe/evolucion-de-la-musica-kpop/\n",
            "http://hisperumusic.blogspot.com/2010/04/la-musica-en-el-peru-desde-la-epoca.html\n",
            "https://www.mindomo.com/es/mindmap/evolucion-de-la-musica-en-el-peru-96f4eb70780f4860a37eb4db06315bd1\n",
            "https://utec.edu.uy/itr-suroeste/conociendo-las-raices-y-evolucion-de-la-musica-folklorica-sudamericana/\n",
            "http://evomusic-lo.blogspot.com/2010/11/evolucion-de-la-musica-en-el-peru.html\n",
            "http://www.scielo.org.pe/scielo.php?script=sci_arttext&pid=S0254-92122018000100001&lng=es&nrm=iso\n",
            "https://www.inoutviajes.com/noticia/9009/turismo-internacional/musica-criolla-peruana:-un-cautivador-legado-artistico.html\n",
            "https://www.monografias.com/trabajos29/musica/musica.shtml\n",
            "https://www.enforex.com/espanol/cultura/historia-musica-espanola.html\n",
            "http://dafo.cultura.pe/conversatorio-sentir-chicha-evolucion-y-alcance-de-la-cumbia-andina-peruana/\n",
            "https://www.usil.edu.pe/eventos/usil-music-evolution-congress-tour-y-evolucion-electronica-de-la-musica-en-el-peru\n",
            "http://www.all-peru.info/spanish/music/perumusic.html\n",
            "https://scielo.conicyt.cl/scielo.php?script=sci_arttext&pid=S0719-53892019000100036\n",
            "http://www.unm.edu.pe/wp-content/uploads/2019/07/Revistaconservatorio2018.pdf\n",
            "https://fahrenheitmagazine.com/arte/musica/historia-de-la-musica-electronica-la-evolucion-del-arte-de-los-ruidos\n",
            "https://dialnet.unirioja.es/descarga/articulo/3392247.pdf\n",
            "https://books.openedition.org/ifea/6206?lang=en\n",
            "https://babyradio.es/blogfamiliar/el-origen-de-la-musica/\n",
            "https://hablandoclaro.pe/ponle-play-esta-historia/\n",
            "https://peru.info/es-pe/talento/noticias/6/25/la-musica-criolla-peruana-cautiva-al-mundo\n",
            "https://los40.com/los40/2019/03/11/musica/1552329955_189270.html\n",
            "https://www.tvperu.gob.pe/videos/sonidos-del-mundo/perkutao-la-evolucion-de-la-musica-afroperuana\n",
            "http://arteenloseducadores.blogspot.com/\n",
            "https://www.elcomercio.com/deportes/carburando-diversion-musica-evolucion-radio.html\n",
            "http://peru.pordescubrir.com/evolucion-musica-peruana.html\n",
            "http://www.inau.gub.uy/component/flexicontent/download/6397/2939/16\n",
            "https://repositorio.iep.org.pe/bitstream/IEP/576/2/llorens_musicapopularenlima.pdf\n",
            "http://ri.uaemex.mx/bitstream/handle/20.500.11799/49199/Tesis0.pdf?sequence=3\n",
            "https://www.mercadonegro.pe/medios/declive-o-evolucion-la-radio-en-tiempo-de-spotify/\n",
            "http://koha.musef.org.bo/cgi-bin/koha/opac-detail.pl?biblionumber=3550\n",
            "https://elmontonero.pe/cultura/la-cancion-criolla-origen-y-apogeo\n",
            "http://publicaciones.unisimonbolivar.edu.co/rdigital/indo/index.php/Indo/article/view/41\n",
            "http://www.scielo.org.bo/scielo.php?script=sci_arttext&pid=S2077-33232010000100010\n",
            "https://news.un.org/es/story/2019/02/1450871\n",
            "https://listado.mercadolibre.com.pe/musica-peliculas/musica/nuevo/beyblade-evolucion\n",
            "https://andina.pe/agencia/noticia-los-qupas-evolucion-de-tecnologia-musical-673644.aspx\n",
            "http://www.scielo.org.co/scielo.php?script=sci_arttext&pid=S1794-58872009000200006\n",
            "https://www.corteidh.or.cr/tablas/23532.pdf\n",
            "http://revolucionlatina.org/news/page/14/\n",
            "https://blog.redbus.pe/arte-y-cultura/historia-del-cajon-peruano/\n",
            "https://industriamusical.es/tag/peru/\n",
            "https://es-es.facebook.com/novalima.official/posts/novalima-lleva-la-m%C3%BAsica-afroperuana-a-un-nivel-de-evoluci%C3%B3n-contempor%C3%A1neo-de-un/10150744809725063/\n",
            "http://repositorio.unsa.edu.pe/handle/UNSA/2157\n",
            "https://cunadelflamenco.com/el-cajon-flamenco-origen/\n",
            "https://www.bbvaopenmind.com/articulos/la-industria-musical-en-una-era-de-distribucion-digital/\n",
            "https://pe.radiocut.fm/audiocut/lu14-evolucion-musica-y-video-juegos/\n",
            "https://www.abc.es/cultura/musica/peru-punk-rock-201010210000_noticia.html\n",
            "http://www.memoriachilena.gob.cl/602/w3-printer-3619.html\n",
            "https://promocionmusical.es/instrumentos-musicales-2/\n",
            "https://elcomercio.pe/luces/musica/experimento-templo-tecno-evolucion-discoteca-50-anos-noticia-593092-noticia/\n",
            "http://laindustria.pe/nota/11722-la-evolucin-musical-de-eva-aylln-en-10-canciones\n",
            "https://garajedelrock.com/descubrir/radargdr-nueva-musica-peruana-en-tiempos-de-cuarentena/\n",
            "http://www2.congreso.gob.pe/Sicr/Prensa/heraldo.nsf/CNtitulares2/84855c2a8f48a81805258431007a1cca/?OpenDocument\n",
            "https://marketing4ecommerce.net/historia-de-spotify-del-lider-de-la-musica-en-streaming/\n",
            "https://www.nitro.pe/moda-auto/evolucion-de-la-tecnologia-de-musica-en-el-auto.html\n",
            "https://www.linio.com.pe/p/camiseta-funny-evolucio-n-guitarrista-rock-guitarra-mu-sica-banda-mu-sica--n0qjum\n",
            "https://www.umifre.fr/c/24904\n",
            "https://www.muyinteresante.es/cultura/arte-cultura/articulo/buenas-frases-sobre-la-musica-321371798683\n",
            "https://www.xataka.com/musica/por-que-nos-gusta-mucho-mas-la-musica-de-nuestra-adolescencia-que-la-que-conocemos-mas-viejos\n",
            "https://www.jakiunde.eus/fr/nouvelles/detail/e/las-ciencias-suenan-en-pamplona-en-noviembre/\n",
            "https://www.pinterest.es/pin/557250153889373261/\n",
            "https://revistamusicalchilena.uchile.cl/index.php/RMCH/article/download/13820/14101/\n",
            "https://www.bcrp.gob.pe/docs/Publicaciones/libros/2020/historia-de-la-moneda-en-el-peru.pdf\n",
            "https://www.abacus.coop/es/evolucion-de-calpurnia-tate-la/0910341.33.html\n",
            "https://www.telefonica.com/ext/informeanual/sites/default/files/documents/2.%20Estrategia%20y%20evolucion%20de%20los%20negocios.pdf\n",
            "https://www.cultura24.tv/videoteca/lima-zap-festival-la-evolucion-coreografia-del-zapateo-peruano/\n",
            "https://rpp.pe/lima/actualidad/historia-de-la-musica-criolla-origen-del-vals-y-primeras-grabaciones-noticia-738177\n",
            "https://peru.as.com/peru/2020/12/06/actualidad/1607256761_888106.html\n",
            "http://www.hispanoteca.eu/M%C3%BAsica%20LA/Paraguay%20y%20su%20m%C3%BAsica.htm\n",
            "https://sisbib.unmsm.edu.pe/Bibvirtual/publicaciones/revis-antrop/2007_n5/pdf/a07.pdf\n",
            "https://www.babysafeperu.com/Robot-Evoluci%C3%B3n-p228627520\n",
            "https://www.radionacional.com.pe/noticias/nacional-en-la-noticia/historia-el-himno-nacional-un-compromiso-en-la-lucha-emancipadora-del\n",
            "https://www.actiludis.com/2010/10/18/historia-de-la-musica-mapas-conceptuales/\n",
            "https://es.euronews.com/video/2020/12/06/agricultores-en-pie-de-guerra-en-peru-bloquean-la-panamericana-exigiendo-una-subida-salari\n",
            "https://panamericana.pe/eldominical/cultura/259149-huayno-historia-evolucion-500-anos\n",
            "https://www.pqs.pe/economia/camp-la-evolucion-del-marketing-en-el-peru\n",
            "http://www.scielo.br/scielo.php?script=sci_arttext&pid=S0104-026X2014000100014\n",
            "https://www.canalipe.tv/noticias/musica/cumbia-peruana-12-datos-que-debes-conocer\n",
            "https://www.tamaba.com.ar/alaemus/course/index.php?categoryid=16\n",
            "http://www.revistadeeducacion.cl/wp-content/uploads/2016/10/HUAYNO.pdf\n",
            "https://news.microsoft.com/es-xl/features/la-evolucion-de-la-musica/\n",
            "https://spoiler.bolavip.com/extra/Selena-afirman-que-la-serie-de-Netflix-es-aburrida-20201208-0003.html\n",
            "http://scielo.sld.cu/scielo.php?script=sci_arttext&pid=S0864-21412004000200009\n",
            "http://www.peruinforma.com/conversatorio-sentir-chicha-evolucion-alcance-la-cumbia-andina-peruana/\n",
            "https://www.tripadvisor.com.pe/Attraction_Review-g294314-d8797183-Reviews-Evolution_Treks_Peru-Cusco_Cusco_Region.html\n",
            "http://repositorio.upch.edu.pe/handle/upch/70\n",
            "https://okdiario.com/curiosidades/disco-musica-espacio-nasa-1719501\n",
            "https://www.elperiodico.com/es/sociedad/20200421/evolucion-epidemia-covid-19-desconfinamiento-empezara-ninos-7935614\n",
            "https://www.laizquierdadiario.cl/John-Lennon-su-eterna-figura-a-cuarenta-anos-de-su-asesinato\n",
            "https://omnirender.com/videos/historia-de-la-musica-en-el-peru/\n",
            "http://kausachunperu.com/musica-andina-del-peru/\n",
            "https://www.rtve.es/noticias/20201208/paises-muertos-coronavirus-poblacion/2012350.shtml\n",
            "http://vinilosperuanos.blogspot.com/2015/01/antologia-de-la-musica-peruana-siglo-xx.html\n",
            "http://repositorio.utp.edu.pe/bitstream/UTP/2160/1/Aldo%20Mello_Margarita%20Medina_Javier%20Vega_Rosa%20Rojas_Trabajo%20de%20Investigacion_Maestria_2019.pdf\n",
            "https://linajeperuano.com/noticias/historia-del-tondero/\n",
            "https://sc.jalisco.gob.mx/patrimonio-cultural\n",
            "http://www.laizquierdadiario.com/Insolito-para-Moroni-tenemos-que-estar-muy-contentos-con-la-evolucion-del-salario-real\n",
            "https://visa-infinite.com/pe-bcp/ofertas-exclusivas/jeongdong-theater_9813\n",
            "https://es.noticias.yahoo.com/arranca-campa%C3%B1a-presidencial-per%C3%BA-fujimori-181420034.html\n",
            "https://unanimodeportes.com/noticias/el-gobierno-frances-espera-autorizar-presencia-publico-en-estadios-en-enero/\n",
            "http://www.tdx.cat/bitstream/handle/10803/31869/Megias.pdf?sequence=1..\n",
            "https://www.rutamotor.com/changan-cs35-plus-elite-1-4-t-153-hp-evolucion-silenciosa/\n",
            "https://eldemocrata.com/selena-la-serie-la-mas-vista-en-netflix/\n",
            "https://rinconperuano.com/musica/instrumentos-musicales-peruanos\n",
            "https://laopinion.com/2020/12/08/de-castana-a-rubia-asi-fue-la-evolucion-de-shakira-con-el-paso-del-tiempo/\n",
            "https://www.laopiniondemalaga.es/nacional/2020/12/06/puente-clave-calibrar-evolucion-pandemia/1209642.html\n",
            "https://core.ac.uk/download/pdf/304707932.pdf\n",
            "https://fashionunited.es/noticias/empresas/moncler-compra-la-italiana-stone-island-por-1-150-millones-de-euros/2020120734118\n",
            "https://www.eldiario.es/cultura/virus-no-enmudece-scala-milan_1_6488716.html\n",
            "https://elpais.com/sociedad/2020-12-03/ultimas-noticias-del-coronavirus-y-la-navidad-en-espana-y-en-el-mundo-en-directo.html\n",
            "https://www.noticiasde.es/comunidad-valenciana/valencia/el-palau-de-la-musica-presenta-menut-palau-con-atractivas-propuestas-familiares-para-navidad-en-el-almudin/\n",
            "https://www.expreso.ec/deportes/guayaquil-quiere-final-94908.html\n",
            "https://amqueretaro.com/vivir-mas/2020/12/08/a-40-anos-sin-john-lennon-queda-su-legado-cultural/\n",
            "https://www.msn.com/es-ar/noticias/otras/sabella-se-complic%C3%B3-su-salud/ar-BB1bKbNz?ocid=mailsignout&li=AAggPN3\n",
            "https://www.msn.com/es-mx/estilo-de-vida/estilo/selena-gomez-dio-con-la-combinaci%C3%B3n-que-queremos-llevar-en-invierno/ar-BB1bKeAe\n",
            "https://lac.unfpa.org/es/news/playing-change-y-el-fondo-de-poblaci%C3%B3n-de-las-naciones-unidas-defienden-los-derechos-humanos\n",
            "https://www.unocero.com/gadgets/surface-pro-x-resena-especificaciones-precio/\n",
            "https://avicultura.info/icc-entre-cuatro-mejores-empresas-nutricion-animal-brasil/\n",
            "https://revistas.unlp.edu.ar/Epistemus/article/download/2700/2512/\n",
            "https://ucsp.edu.pe/ingenieria-mecatronica-piedra-angular-para-la-evolucion-de-la-industria-nacional/\n",
            "https://ceciliasolano.com.ar/docs/d96a0a-la-evoluci%C3%B3n-del-turismo-en-m%C3%A9xico\n",
            "https://www.bnp.gob.pe/colecciones/las-colecciones-de-partituras-de-la-biblioteca-nacional-del-peru/\n",
            "https://bustena.wordpress.com/historia-de-la-musica-online/introduccion/\n",
            "https://sovos.com/es/mandatos/factura-electronica-peru/\n",
            "http://www.minam.gob.pe/proyecolegios/Curso/curso-virtual/Modulos/modulo2/3Secundaria/Actividades-Aprendizaje/Arte/S2/anexo2/Sesion%202%20RESIDUOS%20S_LIDOS%202do%20Secundaria%20-%20ArteANEXO3.pdf\n"
          ],
          "name": "stdout"
        }
      ]
    },
    {
      "cell_type": "markdown",
      "metadata": {
        "id": "aQWVu6DKeEHr"
      },
      "source": [
        "https://ferestrepoca.github.io/paradigmas-de-programacion/paralela/tutoriales/openmp/index.html"
      ]
    },
    {
      "cell_type": "code",
      "metadata": {
        "id": "n2OYAzGcfn73"
      },
      "source": [
        "import threading"
      ],
      "execution_count": null,
      "outputs": []
    },
    {
      "cell_type": "markdown",
      "metadata": {
        "id": "xmQZny_D-bAs"
      },
      "source": [
        "https://www.offensive-security.com/metasploit-unleashed/filesystem-and-libraries/"
      ]
    },
    {
      "cell_type": "markdown",
      "metadata": {
        "id": "cw7nMP8eXsvP"
      },
      "source": [
        "tkinder para GUI de python\n"
      ]
    },
    {
      "cell_type": "code",
      "metadata": {
        "id": "3I3-yChJXx_p"
      },
      "source": [
        "import tkinter as tk\n",
        "ventana=tk.Tk()\n",
        "ventana.geometry(\"600x600\")\n",
        "ventana.title(\"TKINDER\")\n",
        "ventana.mainloop()\n"
      ],
      "execution_count": null,
      "outputs": []
    },
    {
      "cell_type": "markdown",
      "metadata": {
        "id": "1dk52eJZmG37"
      },
      "source": [
        "USANDO EL MATPLOLIB"
      ]
    },
    {
      "cell_type": "code",
      "metadata": {
        "id": "0re9f39pmOq_",
        "colab": {
          "base_uri": "https://localhost:8080/",
          "height": 312
        },
        "outputId": "8ac7cdec-e846-4167-c173-041004501da6"
      },
      "source": [
        "import matplotlib.pyplot as plt\n",
        "x=[3,5]\n",
        "y=[4,6]\n",
        "\n",
        "plt.title(\"mi titulo\")\n",
        "plt.xlabel(\"eje de los x\")\n",
        "plt.ylabel(\"eje de los y\")\n",
        "plt.plot(x,y)\n",
        "#plt.bar(x,y)\n",
        "plt.legend()\n",
        "plt.show()"
      ],
      "execution_count": null,
      "outputs": [
        {
          "output_type": "stream",
          "text": [
            "No handles with labels found to put in legend.\n"
          ],
          "name": "stderr"
        },
        {
          "output_type": "display_data",
          "data": {
            "image/png": "[encoded data removed]",
            "text/plain": [
              "<Figure size 432x288 with 1 Axes>"
            ]
          },
          "metadata": {
            "tags": []
          }
        }
      ]
    },
    {
      "cell_type": "code",
      "metadata": {
        "id": "YGByA_nopcXb",
        "colab": {
          "base_uri": "https://localhost:8080/",
          "height": 279
        },
        "outputId": "1fd27b08-c905-440a-fc50-7c86e3a4f2cf"
      },
      "source": [
        "#plt.plot([1,2,3],[2,6,8],'go') #g green o circulo s para cuadrado\n",
        "plt.plot([1,2,3],[2,6,8],linewidth=4,color='g') #para q se haha mas ancho la linea\n",
        "plt.xlabel(\"eje x\")\n",
        "plt.ylabel(\"eje y\")\n",
        "plt.grid()\n",
        "plt.show()\n"
      ],
      "execution_count": null,
      "outputs": [
        {
          "output_type": "display_data",
          "data": {
            "image/png": "[encoded data removed]",
            "text/plain": [
              "<Figure size 432x288 with 1 Axes>"
            ]
          },
          "metadata": {
            "tags": []
          }
        }
      ]
    },
    {
      "cell_type": "markdown",
      "metadata": {
        "id": "_wT1pyY5r8hA"
      },
      "source": [
        "ELIMINAR LAS VOCALES DE UN TEXTO"
      ]
    },
    {
      "cell_type": "code",
      "metadata": {
        "id": "nhAXW0fmr_nj"
      },
      "source": [
        "vocales=[\"a\",\"e\",\"i\",\"o\",\"u\"]\n",
        "texto=input(\"ingrese texto\")\n",
        "texto=texto.lower()\n",
        "print(\"el texto es {}\".format(texto))\n",
        "nuevo=''\n",
        "for i in texto:\n",
        "  if i not in vocales:\n",
        "    nuevo+=i\n",
        "print(\"texto sin vocales seria: {}\".format(nuevo))\n",
        "print(len(nuevo))"
      ],
      "execution_count": null,
      "outputs": []
    },
    {
      "cell_type": "markdown",
      "metadata": {
        "id": "6B6TlqH0gSox"
      },
      "source": [
        "ABRIR UN ARCHIVO PDF CON PYTHON "
      ]
    },
    {
      "cell_type": "code",
      "metadata": {
        "id": "Mh1x3G2hgWd3"
      },
      "source": [
        "import webbrowser as wb\n",
        "wb.open_new(r'ingresar_ruta_del_archivo_pdf\\archivo.pdf')"
      ],
      "execution_count": null,
      "outputs": []
    },
    {
      "cell_type": "markdown",
      "metadata": {
        "id": "vB-X55RThq2S"
      },
      "source": [
        "VERIFICAR SI UNA DIRECCION IP ES VALIDA O NO "
      ]
    },
    {
      "cell_type": "code",
      "metadata": {
        "id": "9S5WlPO8hvQi"
      },
      "source": [
        "def ip_checker(ip):\n",
        "  try:\n",
        "    separador=ip.split('.')\n",
        "    vali=0\n",
        "    for i in separador:\n",
        "      if(int(i)>=0 and int(i)<=255):\n",
        "        vali+=1\n",
        "    if vali==4:\n",
        "      return True\n",
        "    else:\n",
        "      return False\n",
        "  except:\n",
        "    return False\n",
        "ip=input(\"ingrese la direccion ip\")\n",
        "if ip_checker(ip):\n",
        "  print(f\"si es {ip} es valido\")\n",
        "else:\n",
        "  print(f\"no es  {ip} valido\")\n",
        "\n"
      ],
      "execution_count": null,
      "outputs": []
    },
    {
      "cell_type": "markdown",
      "metadata": {
        "id": "oLf-DwE9p5x4"
      },
      "source": [
        "COMO SABER NUESTRA DIRECCION IP "
      ]
    },
    {
      "cell_type": "code",
      "metadata": {
        "id": "GI0O79vkotmj",
        "colab": {
          "background_save": true
        }
      },
      "source": [
        "import socket\n",
        "hostname=socket.gethostname()\n",
        "ip=socket.gethostbyname(hostname)\n",
        "print(ip)"
      ],
      "execution_count": null,
      "outputs": []
    },
    {
      "cell_type": "markdown",
      "metadata": {
        "id": "yhpR6yybsHs8"
      },
      "source": [
        "**Como trabajar con objetos**"
      ]
    },
    {
      "cell_type": "code",
      "metadata": {
        "id": "K116lW8tAj2F",
        "colab": {
          "base_uri": "https://localhost:8080/"
        },
        "outputId": "f71bd035-314f-4ca7-cd5d-04636eeec36e"
      },
      "source": [
        "class Persona:\n",
        "  def __init__(self,nom,dni):\n",
        "    self.nom=nom\n",
        "    self.dni=dni\n",
        "\n",
        "  def __str__(self):\n",
        "    return '{} {}'.format(self.nom,str(self.dni))\n",
        "\n",
        "p=Persona(\"lolo\",12)\n",
        "p1=Persona(\"juan\",21)\n",
        "p2=Persona(\"jose\",13)\n",
        "p3=Persona(\"maria\",18)\n",
        "lista=[p,p1,p2,p3]\n",
        "mayor=lista[0].dni\n",
        "for p in lista:\n",
        "  if p.dni> mayor:\n",
        "    mayor=p.dni\n",
        "\n",
        "print(mayor)\n"
      ],
      "execution_count": null,
      "outputs": [
        {
          "output_type": "stream",
          "text": [
            "21\n"
          ],
          "name": "stdout"
        }
      ]
    },
    {
      "cell_type": "code",
      "metadata": {
        "id": "RABqWf8ffd2A",
        "colab": {
          "base_uri": "https://localhost:8080/"
        },
        "outputId": "c4b3ac53-e77b-4890-ad1f-fdcacd237af4"
      },
      "source": [
        "x=152\n",
        "i=0;\n",
        "while x>0:\n",
        "  x=x//10\n",
        "  i+=1\n",
        "a=i\n",
        "w=0\n",
        "while a>0:\n",
        "  w+=x%10\n",
        "  a-=1\n",
        "  print(w)\n",
        "\n",
        "  \n"
      ],
      "execution_count": null,
      "outputs": [
        {
          "output_type": "stream",
          "text": [
            "0\n",
            "0\n",
            "0\n"
          ],
          "name": "stdout"
        }
      ]
    },
    {
      "cell_type": "markdown",
      "metadata": {
        "id": "rcKEINQbVCkv"
      },
      "source": [
        "**LISTAS**"
      ]
    },
    {
      "cell_type": "code",
      "metadata": {
        "id": "TiobI5OsVIBY",
        "colab": {
          "base_uri": "https://localhost:8080/"
        },
        "outputId": "9f349cac-5079-4976-8efa-93c32b280721"
      },
      "source": [
        "global lista\n",
        "lista = list ()\n",
        "\n",
        "class Alumno:\n",
        "  nombre=\"\"\n",
        "  dni=\"\"\n",
        "  edad=0\n",
        "\n",
        "def registrarAlumno():\n",
        "  print(\"listar alumno\")\n",
        "  a=Alumno()\n",
        "  a.nombre=input(\"ingrese nombre\")\n",
        "  a.dni=input(\"ingrese dni\")\n",
        "  a.dni=int(input(\"ingrese edad\"))\n",
        "\n",
        "  lista.append(a)\n",
        "\n",
        "def listarAlumno():\n",
        "  print(\"listar alumno\")\n",
        "  for a in lista:\n",
        "    print(a.nombre , \" - \", a.edad ,\" - \",a.dni)\n",
        "def buscarAlumno():\n",
        "  print(\"buscar alumno\")\n",
        "  dni=input(\"ingrese dni a buscar\")\n",
        "  for a in lista:\n",
        "    if a.dni==dni:\n",
        "      print(a.nombre , \" - \",a.edad,\" - \",a.dni)\n",
        "def salir():\n",
        "  print(\"gracias por usaar la app \")\n",
        "  exit()\n",
        "\n",
        "def menu():\n",
        "  op=0\n",
        "\n",
        "  while (op!=4):\n",
        "    print(menu)\n",
        "    print(\"1- registrar\")\n",
        "    print(\"2- listar alumno\")\n",
        "    print(\"3- buscar alumno\")\n",
        "    print(\"4- salir\")\n",
        "    print(\"digite opcion\")\n",
        "    op=int(input())\n",
        "\n",
        "    if op ==1:\n",
        "      registrarAlumno()\n",
        "    elif op==2:\n",
        "      listarAlumno()\n",
        "    elif op==3:\n",
        "      buscarAlumno()\n",
        "    else:\n",
        "      salir()\n",
        "\n",
        "menu()\n",
        "\n",
        "\n"
      ],
      "execution_count": null,
      "outputs": [
        {
          "output_type": "stream",
          "text": [
            "<function menu at 0x7fc9a6286268>\n",
            "1- registrar\n",
            "2- listar alumno\n",
            "3- buscar alumno\n",
            "4- salir\n",
            "digite opcion\n",
            "1\n",
            "listar alumno\n",
            "ingrese nombrejuna\n",
            "ingrese dni455\n",
            "ingrese edad25\n",
            "<function menu at 0x7fc9a6286268>\n",
            "1- registrar\n",
            "2- listar alumno\n",
            "3- buscar alumno\n",
            "4- salir\n",
            "digite opcion\n",
            "1\n",
            "listar alumno\n",
            "ingrese nombrekarla\n",
            "ingrese dni655\n",
            "ingrese edad14\n",
            "<function menu at 0x7fc9a6286268>\n",
            "1- registrar\n",
            "2- listar alumno\n",
            "3- buscar alumno\n",
            "4- salir\n",
            "digite opcion\n",
            "2\n",
            "listar alumno\n",
            "juna  -  0  -  25\n",
            "karla  -  0  -  14\n",
            "<function menu at 0x7fc9a6286268>\n",
            "1- registrar\n",
            "2- listar alumno\n",
            "3- buscar alumno\n",
            "4- salir\n",
            "digite opcion\n",
            "3\n",
            "buscar alumno\n",
            "ingrese dni a buscar655\n",
            "<function menu at 0x7fc9a6286268>\n",
            "1- registrar\n",
            "2- listar alumno\n",
            "3- buscar alumno\n",
            "4- salir\n",
            "digite opcion\n",
            "4\n",
            "gracias por usaar la app \n"
          ],
          "name": "stdout"
        }
      ]
    },
    {
      "cell_type": "code",
      "metadata": {
        "id": "b6t8axAvjFRd",
        "colab": {
          "base_uri": "https://localhost:8080/",
          "height": 229
        },
        "outputId": "dcbf863f-c1a1-4378-82f6-a9b8da6d6ac4"
      },
      "source": [
        "s=\"aabbbcc\"\n",
        "t=0\n",
        "m=0\n",
        "for i in s:\n",
        "  for j in s:\n",
        "    if s[i]==s[j]:\n",
        "      t+=1\n",
        "  w=t\n",
        "  if w>m:\n",
        "    m=w\n",
        "print(m)\n",
        "\n",
        "\n",
        "      \n"
      ],
      "execution_count": null,
      "outputs": [
        {
          "output_type": "error",
          "ename": "TypeError",
          "evalue": "ignored",
          "traceback": [
            "\u001b[0;31m---------------------------------------------------------------------------\u001b[0m",
            "\u001b[0;31mTypeError\u001b[0m                                 Traceback (most recent call last)",
            "\u001b[0;32m<ipython-input-105-9bfc6e74308b>\u001b[0m in \u001b[0;36m<module>\u001b[0;34m()\u001b[0m\n\u001b[1;32m      4\u001b[0m \u001b[0;32mfor\u001b[0m \u001b[0mi\u001b[0m \u001b[0;32min\u001b[0m \u001b[0ms\u001b[0m\u001b[0;34m:\u001b[0m\u001b[0;34m\u001b[0m\u001b[0;34m\u001b[0m\u001b[0m\n\u001b[1;32m      5\u001b[0m   \u001b[0;32mfor\u001b[0m \u001b[0mj\u001b[0m \u001b[0;32min\u001b[0m \u001b[0ms\u001b[0m\u001b[0;34m:\u001b[0m\u001b[0;34m\u001b[0m\u001b[0;34m\u001b[0m\u001b[0m\n\u001b[0;32m----> 6\u001b[0;31m     \u001b[0;32mif\u001b[0m \u001b[0ms\u001b[0m\u001b[0;34m[\u001b[0m\u001b[0mi\u001b[0m\u001b[0;34m]\u001b[0m\u001b[0;34m==\u001b[0m\u001b[0ms\u001b[0m\u001b[0;34m[\u001b[0m\u001b[0mj\u001b[0m\u001b[0;34m]\u001b[0m\u001b[0;34m:\u001b[0m\u001b[0;34m\u001b[0m\u001b[0;34m\u001b[0m\u001b[0m\n\u001b[0m\u001b[1;32m      7\u001b[0m       \u001b[0mt\u001b[0m\u001b[0;34m+=\u001b[0m\u001b[0;36m1\u001b[0m\u001b[0;34m\u001b[0m\u001b[0;34m\u001b[0m\u001b[0m\n\u001b[1;32m      8\u001b[0m   \u001b[0mw\u001b[0m\u001b[0;34m=\u001b[0m\u001b[0mt\u001b[0m\u001b[0;34m\u001b[0m\u001b[0;34m\u001b[0m\u001b[0m\n",
            "\u001b[0;31mTypeError\u001b[0m: string indices must be integers"
          ]
        }
      ]
    },
    {
      "cell_type": "code",
      "metadata": {
        "id": "SomPDv_IJ8g6",
        "colab": {
          "base_uri": "https://localhost:8080/"
        },
        "outputId": "5576cebd-982d-464c-d955-82e67245e457"
      },
      "source": [
        "s=\"aabbbcc\"\n",
        "a=list (s)\n",
        "w=([str(x) for x in a])\n",
        "for i in w:\n",
        "  print(i)\n",
        "print(type(w[0]))\n"
      ],
      "execution_count": null,
      "outputs": [
        {
          "output_type": "stream",
          "text": [
            "a\n",
            "a\n",
            "b\n",
            "b\n",
            "b\n",
            "c\n",
            "c\n"
          ],
          "name": "stdout"
        }
      ]
    },
    {
      "cell_type": "code",
      "metadata": {
        "id": "z5btn9K1mjE9",
        "colab": {
          "base_uri": "https://localhost:8080/"
        },
        "outputId": "5ef93485-2603-44ea-8587-e5cdddda2884"
      },
      "source": [
        "import datetime\n",
        "t=datetime.datetime.now()\n",
        "print(t)"
      ],
      "execution_count": null,
      "outputs": [
        {
          "output_type": "stream",
          "text": [
            "2020-11-02 16:00:17.712242\n"
          ],
          "name": "stdout"
        }
      ]
    },
    {
      "cell_type": "code",
      "metadata": {
        "id": "_K7U1jeRsaMP",
        "colab": {
          "base_uri": "https://localhost:8080/"
        },
        "outputId": "f0a3dc11-7804-4715-fee2-f8c374f121e9"
      },
      "source": [
        "s=\"locajdj\"\n",
        "x=list(s)\n",
        "y=len(x)\n",
        "w=[]\n",
        "y-=1\n",
        "while(y>=0):\n",
        "  w+=[x[y]]\n",
        "  y-=1\n",
        "w=\"\".join(w) #convierte de lista a string\n",
        "print(w)\n",
        "\n",
        "  "
      ],
      "execution_count": null,
      "outputs": [
        {
          "output_type": "stream",
          "text": [
            "jdjacol\n"
          ],
          "name": "stdout"
        }
      ]
    },
    {
      "cell_type": "code",
      "metadata": {
        "id": "04M6cHPczkcm",
        "colab": {
          "base_uri": "https://localhost:8080/"
        },
        "outputId": "e7aa387b-30ed-4624-fb5c-0c5b7ccf2fdd"
      },
      "source": [
        "x=input(\"cant de nuemero\")\n",
        "a=x.split(\",\")\n",
        "T3 = list(map(int, a))\n",
        "print(T3)\n",
        "print(type(T3[1]))\n",
        "\n",
        "\n"
      ],
      "execution_count": null,
      "outputs": [
        {
          "output_type": "stream",
          "text": [
            "cant de nuemero1,2,3,6\n",
            "[1, 2, 3, 6]\n",
            "<class 'int'>\n"
          ],
          "name": "stdout"
        }
      ]
    },
    {
      "cell_type": "code",
      "metadata": {
        "id": "M4hI1zPb7R5r",
        "colab": {
          "base_uri": "https://localhost:8080/"
        },
        "outputId": "8ba235f9-c4af-459e-8fb5-a0488cc86b53"
      },
      "source": [
        "T1 = ['13', '17', '18', '21', '32']\n",
        "print([int(x) for x in T1])"
      ],
      "execution_count": null,
      "outputs": [
        {
          "output_type": "stream",
          "text": [
            "[13, 17, 18, 21, 32]\n"
          ],
          "name": "stdout"
        }
      ]
    },
    {
      "cell_type": "markdown",
      "metadata": {
        "id": "R9ZhFK3rmn-3"
      },
      "source": [
        " **FUNCIONAMIENTO DEL  TRY - EXCEPT**"
      ]
    },
    {
      "cell_type": "code",
      "metadata": {
        "id": "cfpU2t-SmxlF",
        "colab": {
          "base_uri": "https://localhost:8080/",
          "height": 195
        },
        "outputId": "ff7389af-4714-4607-b38e-f2a7dbccd988"
      },
      "source": [
        "n=int(input(\"ingrese un numro\"))\n",
        "print(\"hola\")#vemos q al tener un error de tipeo en la primera lo segundo ya no ejecutal "
      ],
      "execution_count": null,
      "outputs": [
        {
          "output_type": "stream",
          "text": [
            "ingrese un numrokkh\n"
          ],
          "name": "stdout"
        },
        {
          "output_type": "error",
          "ename": "ValueError",
          "evalue": "ignored",
          "traceback": [
            "\u001b[0;31m---------------------------------------------------------------------------\u001b[0m",
            "\u001b[0;31mValueError\u001b[0m                                Traceback (most recent call last)",
            "\u001b[0;32m<ipython-input-4-504b562a38cd>\u001b[0m in \u001b[0;36m<module>\u001b[0;34m()\u001b[0m\n\u001b[0;32m----> 1\u001b[0;31m \u001b[0mn\u001b[0m\u001b[0;34m=\u001b[0m\u001b[0mint\u001b[0m\u001b[0;34m(\u001b[0m\u001b[0minput\u001b[0m\u001b[0;34m(\u001b[0m\u001b[0;34m\"ingrese un numro\"\u001b[0m\u001b[0;34m)\u001b[0m\u001b[0;34m)\u001b[0m\u001b[0;34m\u001b[0m\u001b[0;34m\u001b[0m\u001b[0m\n\u001b[0m\u001b[1;32m      2\u001b[0m \u001b[0mprint\u001b[0m\u001b[0;34m(\u001b[0m\u001b[0;34m\"hola\"\u001b[0m\u001b[0;34m)\u001b[0m\u001b[0;31m#vemos q al tener un error de tipeo en la primera lo segundo ya no ejecutal\u001b[0m\u001b[0;34m\u001b[0m\u001b[0;34m\u001b[0m\u001b[0m\n",
            "\u001b[0;31mValueError\u001b[0m: invalid literal for int() with base 10: 'kkh'"
          ]
        }
      ]
    },
    {
      "cell_type": "code",
      "metadata": {
        "id": "N391Ie0NnGsT",
        "colab": {
          "base_uri": "https://localhost:8080/"
        },
        "outputId": "a378a3b2-349f-4793-b8de-bec94be19360"
      },
      "source": [
        "try:\n",
        "  n=int(input(\"ingrese un nro\"))\n",
        "except:\n",
        "  print(\"error\")\n",
        "print(\"hola\")#emos q a pesar q hay un error va ejecutar normal esto"
      ],
      "execution_count": null,
      "outputs": [
        {
          "output_type": "stream",
          "text": [
            "ingrese un nrolk\n",
            "error\n",
            "hola\n"
          ],
          "name": "stdout"
        }
      ]
    },
    {
      "cell_type": "code",
      "metadata": {
        "id": "Swz9XbBfoJC1",
        "colab": {
          "base_uri": "https://localhost:8080/"
        },
        "outputId": "943b3ddb-6b25-4050-8d44-36efde0cc654"
      },
      "source": [
        "try:\n",
        "  n=int(input(\"ingrese un entero\"))\n",
        "except Exception as ex: #nos muestra el tipo de error q vota\n",
        "  print(ex) \n",
        "print(\"hola\")"
      ],
      "execution_count": null,
      "outputs": [
        {
          "output_type": "stream",
          "text": [
            "ingrese un enterokl\n",
            "invalid literal for int() with base 10: 'kl'\n",
            "hola\n"
          ],
          "name": "stdout"
        }
      ]
    },
    {
      "cell_type": "code",
      "metadata": {
        "id": "CorWFnBfDbRB",
        "colab": {
          "base_uri": "https://localhost:8080/"
        },
        "outputId": "8c5ed524-a135-4aff-83e6-cefd74c2d152"
      },
      "source": [
        "import numpy as np\n",
        "\n",
        "# INGRESO\n",
        "fx = lambda x: x**2-4*x\n",
        "dfx = lambda x: 2*x-4\n",
        "\n",
        "x0 = 3\n",
        "tolera = 0.001\n",
        "\n",
        "# PROCEDIMIENTO\n",
        "tabla = []\n",
        "tramo = abs(2*tolera)\n",
        "xi = x0\n",
        "while (tramo>=tolera):\n",
        "    xnuevo = xi - fx(xi)/dfx(xi)\n",
        "    tramo = abs(xnuevo-xi)\n",
        "    tabla.append([xi,xnuevo,tramo])\n",
        "    xi = xnuevo\n",
        "\n",
        "# convierte la lista a un arreglo.\n",
        "tabla = np.array(tabla)\n",
        "n=len(tabla)\n",
        "\n",
        "# SALIDA\n",
        "print(['xi', 'xnuevo', 'tramo'])\n",
        "np.set_printoptions(precision = 4)\n",
        "print(tabla)\n",
        "print('raiz en: ', xi)\n",
        "print('con error de: ',tramo)"
      ],
      "execution_count": null,
      "outputs": [
        {
          "output_type": "stream",
          "text": [
            "['xi', 'xnuevo', 'tramo']\n",
            "[[3.0000e+00 4.5000e+00 1.5000e+00]\n",
            " [4.5000e+00 4.0500e+00 4.5000e-01]\n",
            " [4.0500e+00 4.0006e+00 4.9390e-02]\n",
            " [4.0006e+00 4.0000e+00 6.0966e-04]]\n",
            "raiz en:  4.000000092922295\n",
            "con error de:  0.0006096631752656734\n"
          ],
          "name": "stdout"
        }
      ]
    },
    {
      "cell_type": "code",
      "metadata": {
        "id": "tUF5wN5prnHN",
        "colab": {
          "base_uri": "https://localhost:8080/"
        },
        "outputId": "81cb45d2-09f0-4638-8cbd-008228fcc9a0"
      },
      "source": [
        "class elem:\n",
        "  def __init__(self,dato):\n",
        "    self.dato=dato\n",
        "    self.sgte=None\n",
        "\n",
        "class Lista:\n",
        "  def __init__(self):\n",
        "    self.inicio=None\n",
        "    self.final=None\n",
        "\n",
        "  def agregar(self,dato):\n",
        "    nuevo=elem(dato)\n",
        "    if self.inicio==None:\n",
        "      self.inicio=nuevo\n",
        "\n",
        "    if self.final!=None:\n",
        "      self.final.sgte=nuevo\n",
        "    self.final=nuevo\n",
        "\n",
        "  def eliminar(self, numero):\n",
        "    temp=None\n",
        "    elem=self.inicio\n",
        "    i=0\n",
        "    while elem!=None and i<numero:\n",
        "      temp=elem\n",
        "      elem=elem.sgte\n",
        "      i+=1\n",
        "\n",
        "    if temp==None:\n",
        "      self.inicio=elem.sgte\n",
        "    else:\n",
        "      temp.sgte=elem.sgte\n",
        "\n",
        "  def imprimir(self):\n",
        "    elem=self.inicio\n",
        "    while elem!=None:\n",
        "      print(elem.dato)\n",
        "      elem=elem.sgte\n",
        "l=Lista()\n",
        "l.agregar(5)\n",
        "l.agregar(1)\n",
        "l.agregar(3)\n",
        "l.eliminar(1)\n",
        "l.imprimir"
      ],
      "execution_count": null,
      "outputs": [
        {
          "output_type": "execute_result",
          "data": {
            "text/plain": [
              "<bound method Lista.imprimir of <__main__.Lista object at 0x7f7d9eccc6a0>>"
            ]
          },
          "metadata": {
            "tags": []
          },
          "execution_count": 7
        }
      ]
    },
    {
      "cell_type": "code",
      "metadata": {
        "id": "vFsxMDwn7y_M",
        "colab": {
          "base_uri": "https://localhost:8080/",
          "height": 313
        },
        "outputId": "8eebaf28-d868-4460-a021-09a60f6822b2"
      },
      "source": [
        "class Nodo:\n",
        "  def __init__(self, dato):\n",
        "    self.dato=dato\n",
        "    self.sgte=None\n",
        "\n",
        "  def __str__(self):\n",
        "    return self.dato\n",
        "\n",
        "    \n",
        "class Lista():\n",
        "  def __init__(self):\n",
        "    self.lista=None\n",
        "    self.size=0\n",
        "\n",
        "  def agregar(self,dato):\n",
        "    nodo=Nodo(dato)\n",
        "    if self.lista==None:\n",
        "      self.lista=Nodo\n",
        "    else:\n",
        "      actual=self.lista\n",
        "      while actual!=None:\n",
        "        actual=actual.sgte\n",
        "      actual.sgte=nodo\n",
        "\n",
        "    self.size+=1\n",
        "    return nodo\n",
        "\n",
        "  def eliminar(self, dato):\n",
        "    if self.size==0:\n",
        "      return False\n",
        "    else:\n",
        "      actual=self.lista\n",
        "      while actual.sgte.dato!=dato:\n",
        "        if actual.sgte==None:\n",
        "          return False\n",
        "        else:\n",
        "          nodoEliminar=actual.sgte\n",
        "          actual.sgte=nodoEliminar.sgte\n",
        "    self.size-=1\n",
        "    return nodoEliminar\n",
        "\n",
        "  def __len__(self):\n",
        "    return self.size\n",
        "\n",
        "  \n",
        "\n",
        "  def __str__(self):\n",
        "    string =\"[\"\n",
        "    actual=self.lista\n",
        "    while actual.sgte!=None:\n",
        "      string+= str(actual)\n",
        "      string+=str(\",\")\n",
        "      actual=actual.sgte\n",
        "    string+=\"]\"\n",
        "\n",
        "    return string\n",
        "\n",
        "\n",
        "lista=Lista()\n",
        "lista.agregar(5)\n",
        "lista.agregar(6)\n"
      ],
      "execution_count": null,
      "outputs": [
        {
          "output_type": "error",
          "ename": "AttributeError",
          "evalue": "ignored",
          "traceback": [
            "\u001b[0;31m---------------------------------------------------------------------------\u001b[0m",
            "\u001b[0;31mAttributeError\u001b[0m                            Traceback (most recent call last)",
            "\u001b[0;32m<ipython-input-16-2ec546d2825c>\u001b[0m in \u001b[0;36m<module>\u001b[0;34m()\u001b[0m\n\u001b[1;32m     59\u001b[0m \u001b[0mlista\u001b[0m\u001b[0;34m=\u001b[0m\u001b[0mLista\u001b[0m\u001b[0;34m(\u001b[0m\u001b[0;34m)\u001b[0m\u001b[0;34m\u001b[0m\u001b[0;34m\u001b[0m\u001b[0m\n\u001b[1;32m     60\u001b[0m \u001b[0mlista\u001b[0m\u001b[0;34m.\u001b[0m\u001b[0magregar\u001b[0m\u001b[0;34m(\u001b[0m\u001b[0;36m5\u001b[0m\u001b[0;34m)\u001b[0m\u001b[0;34m\u001b[0m\u001b[0;34m\u001b[0m\u001b[0m\n\u001b[0;32m---> 61\u001b[0;31m \u001b[0mlista\u001b[0m\u001b[0;34m.\u001b[0m\u001b[0magregar\u001b[0m\u001b[0;34m(\u001b[0m\u001b[0;36m6\u001b[0m\u001b[0;34m)\u001b[0m\u001b[0;34m\u001b[0m\u001b[0;34m\u001b[0m\u001b[0m\n\u001b[0m",
            "\u001b[0;32m<ipython-input-16-2ec546d2825c>\u001b[0m in \u001b[0;36magregar\u001b[0;34m(self, dato)\u001b[0m\n\u001b[1;32m     20\u001b[0m       \u001b[0mactual\u001b[0m\u001b[0;34m=\u001b[0m\u001b[0mself\u001b[0m\u001b[0;34m.\u001b[0m\u001b[0mlista\u001b[0m\u001b[0;34m\u001b[0m\u001b[0;34m\u001b[0m\u001b[0m\n\u001b[1;32m     21\u001b[0m       \u001b[0;32mwhile\u001b[0m \u001b[0mactual\u001b[0m\u001b[0;34m!=\u001b[0m\u001b[0;32mNone\u001b[0m\u001b[0;34m:\u001b[0m\u001b[0;34m\u001b[0m\u001b[0;34m\u001b[0m\u001b[0m\n\u001b[0;32m---> 22\u001b[0;31m         \u001b[0mactual\u001b[0m\u001b[0;34m=\u001b[0m\u001b[0mactual\u001b[0m\u001b[0;34m.\u001b[0m\u001b[0msgte\u001b[0m\u001b[0;34m\u001b[0m\u001b[0;34m\u001b[0m\u001b[0m\n\u001b[0m\u001b[1;32m     23\u001b[0m       \u001b[0mactual\u001b[0m\u001b[0;34m.\u001b[0m\u001b[0msgte\u001b[0m\u001b[0;34m=\u001b[0m\u001b[0mnodo\u001b[0m\u001b[0;34m\u001b[0m\u001b[0;34m\u001b[0m\u001b[0m\n\u001b[1;32m     24\u001b[0m \u001b[0;34m\u001b[0m\u001b[0m\n",
            "\u001b[0;31mAttributeError\u001b[0m: type object 'Nodo' has no attribute 'sgte'"
          ]
        }
      ]
    },
    {
      "cell_type": "code",
      "metadata": {
        "id": "m4-dZJLZJa1j",
        "colab": {
          "base_uri": "https://localhost:8080/"
        },
        "outputId": "2f212450-9ee7-4cb6-e8a5-9c9b40d69590"
      },
      "source": [
        "class Pila():\n",
        "  def __init__(self, size):\n",
        "    self.lista=[]\n",
        "    self.tope=0\n",
        "    self.size=size\n",
        "\n",
        "  def empty(self):\n",
        "    if self.tope==0:\n",
        "      return True\n",
        "    else:\n",
        "      return False\n",
        "\n",
        "  def push(self,dato):\n",
        "     if self.tope < self.size:\n",
        "       self.lista+=[dato]\n",
        "       self.tope+=1\n",
        "     else:\n",
        "        print(\"la pila esta llena\")\n",
        "\n",
        "  def pop(self):\n",
        "      if self.empty():\n",
        "        print(\"pila vacia\")\n",
        "      else:\n",
        "        self.tope-=1\n",
        "        self.lista=[self.lista[x] for x in range(self.tope)]\n",
        "\n",
        "  def show(self):\n",
        "     for i in range(self.tope):\n",
        "       print(i,self.lista[i])\n",
        "\n",
        "pila=Pila(3)\n",
        "pila.push(5)\n",
        "pila.push(3)\n",
        "pila.pop()\n",
        "pila.show()\n"
      ],
      "execution_count": null,
      "outputs": [
        {
          "output_type": "stream",
          "text": [
            "0 5\n"
          ],
          "name": "stdout"
        }
      ]
    },
    {
      "cell_type": "code",
      "metadata": {
        "id": "T1kVUM8IivHN",
        "colab": {
          "base_uri": "https://localhost:8080/"
        },
        "outputId": "357f2ec3-4bc5-4ff0-ae4b-8dfbec0a2f3c"
      },
      "source": [
        "class Pila:\n",
        "  def __init__(self):\n",
        "    self.items=[]\n",
        "    \n",
        "  def apilar(self, x):\n",
        "    self.items.append(x)\n",
        "\n",
        "  def desapilar(self):\n",
        "    try:\n",
        "      return self.items.pop()\n",
        "    except IndexError:\n",
        "      raise ValueError(\"La pila está vacía\")\n",
        "\n",
        "  def es_vacia(self):\n",
        "    return self.items == []\n",
        "\n",
        "p=Pila()\n",
        "p.apilar(5)\n",
        "p.apilar(7)\n",
        "p.apilar(3)\n",
        "p.desapilar\n",
        "print(p.desapilar)"
      ],
      "execution_count": null,
      "outputs": [
        {
          "output_type": "stream",
          "text": [
            "<bound method Pila.desapilar of <__main__.Pila object at 0x7f37a2e98f60>>\n"
          ],
          "name": "stdout"
        }
      ]
    },
    {
      "cell_type": "code",
      "metadata": {
        "id": "6DUbymx8k_ZI"
      },
      "source": [
        "class Cola:\n",
        "  def __init__(self):\n",
        "    self.items=[]\n",
        "    \n",
        "  def encolar(self, x):\n",
        "    self.items.append(x)\n",
        "    \n",
        "  def desencolar(self):\n",
        "    try:\n",
        "      return self.items.pop(0)\n",
        "    except:\n",
        "      raise ValueError(\"La cola está vacía\")\n",
        "  def es_vacia(self):\n",
        "    return self.items == []"
      ],
      "execution_count": null,
      "outputs": []
    },
    {
      "cell_type": "code",
      "metadata": {
        "id": "hMcWF41Bmv1q"
      },
      "source": [
        "from claseNodo import Nodo\n",
        "class Cola:\n",
        "  def __init__(self):\n",
        "    self.primero = None\n",
        "    self.ultimo = None\n",
        "    \n",
        "  def encolar(self, x):\n",
        "    nuevo = Nodo(x)\n",
        "# Si ya hay un último, agrega el nuevo y cambia la referencia.\n",
        "    if self.ultimo:\n",
        "      self.ultimo.prox = nuevo\n",
        "      self.ultimo = nuevo\n",
        " # Si la cola estaba vacía, el primero es también el último.\n",
        "    else:\n",
        "      self.primero = nuevo\n",
        "      self.ultimo = nuevo\n",
        "      \n",
        "  def desencolar(self):\n",
        "30 \"\"\" Elimina el primer elemento de la cola y devuelve su\n",
        "31 valor. Si la cola está vacía, levanta ValueError. \"\"\"\n",
        "32 # Si hay un nodo para desencolar\n",
        "33 if self.primero:\n",
        "34 valor = self.primero.dato\n",
        "35 self.primero = self.primero.prox\n",
        "36 # Si después de avanzar no quedó nada, también hay que\n",
        "37 # eliminar la referencia del último.\n",
        "38 if not self.primero:\n",
        "39 self.ultimo = None\n",
        "40 return valor\n",
        "41 else:\n",
        "42 raise ValueError(\"La cola está vacía\")\n",
        "43\n",
        "44 def es_vacia(self):\n",
        "45 \"\"\" Devuelve True si la cola esta vacía, False si no.\"\"\"\n",
        "46 return self.primero == None"
      ],
      "execution_count": null,
      "outputs": []
    },
    {
      "cell_type": "code",
      "metadata": {
        "colab": {
          "base_uri": "https://localhost:8080/",
          "height": 279
        },
        "id": "ny9GHYE41jqi",
        "outputId": "754077dd-d6af-48fe-eec0-c641d6d2ce1e"
      },
      "source": [
        "import numpy as np\n",
        "import random\n",
        "import matplotlib.pyplot as plt\n",
        "\n",
        "#np.arange(16).reshape(4,4)\n",
        "#np.arange(1,10,2)\n",
        "#np.linspace(1,2,10)\n",
        "'''\n",
        "a=np.array([[15,30],\n",
        "           [5,6]])\n",
        "b=np.array([2,8])\n",
        "c=a*b\n",
        "c\n",
        "\n",
        "'''\n",
        "'''\n",
        "a=[4,5,2,9]\n",
        "#max(a)\n",
        "#min(a)\n",
        "#np.sqrt(a)\n",
        "'''\n",
        "'''\n",
        "def listaAleatorios(n):\n",
        "    lista = []\n",
        "    for i in range(n):\n",
        "        lista.insert(i, random.randrange(0, 50))\n",
        "    return lista\n",
        "\n",
        "print(\"Ingrese cuantos numeros aleatorios desea obtener\")\n",
        "a= int(input())\n",
        "aleatorios = listaAleatorios(n)\n",
        "'''\n",
        "#SPN = np.random.randint(0, 20, (4, 4)) random de un matriz 4 x 4\n",
        "\n",
        "#np.argsort([5,3,4,7]) posicion\n",
        "#np.sort([6,7,9,1])\n",
        "#np.sin(30*np.pi/180)\n",
        "#np.zeros((4,4))\n",
        "#np.ones((4,4))\n",
        "x=np.linspace(0,5,100)\n",
        "plt.plot(x,x**2,label='cuadrado')\n",
        "plt.plot([1,5,4],[6,7,2],'ro')\n",
        "plt.xlabel(\"eje x\")\n",
        "plt.ylabel(\"eje y\")\n",
        "plt.show()"
      ],
      "execution_count": null,
      "outputs": [
        {
          "output_type": "display_data",
          "data": {
            "image/png": "[encoded data removed]",
            "text/plain": [
              "<Figure size 432x288 with 1 Axes>"
            ]
          },
          "metadata": {
            "tags": [],
            "needs_background": "light"
          }
        }
      ]
    },
    {
      "cell_type": "code",
      "metadata": {
        "colab": {
          "base_uri": "https://localhost:8080/"
        },
        "id": "C6sMklbX8NKV",
        "outputId": "4e928368-4b1b-480c-b2ba-6bc43b35e595"
      },
      "source": [
        "import numpy as np\n",
        "'''\n",
        "x1=(\"{0:.3f}\".format(np.cos(30*np.pi/180)))\n",
        "y1=(\"{0:.3f}\".format(-1*(np.sin(30*np.pi/180))))\n",
        "x2=(\"{0:.3f}\".format(np.sin(30*np.pi/180)))\n",
        "y2=(\"{0:.3f}\".format(np.cos(30*np.pi/180)))\n",
        "'''\n",
        "'''\n",
        "x1=(np.cos(-37*np.pi/180))\n",
        "y1=(-1*(np.sin(-37*np.pi/180)))\n",
        "x2=(np.sin(-37*np.pi/180))\n",
        "y2=(np.cos(-37*np.pi/180))\n",
        "\n",
        "m=np.array([[x1,y1],\n",
        "            [x2,y2]])\n",
        "\n",
        "a=np.array([[-3],[-0.8]])\n",
        "b=np.array([[0],[-0.8]])\n",
        "c=np.array([[0],[2.02]])\n",
        "d=np.array([[3],[1.02]])\n",
        "e=np.array([[0],[-1.8]])\n",
        "\n",
        "\n",
        "print(np.matmul(m,a))\n",
        "print(np.matmul(m,b))\n",
        "print(np.matmul(m,c))\n",
        "print(np.matmul(m,d))\n",
        "print(np.matmul(m,e))\n",
        "'''\n",
        "m=np.array([[1.5,0],\n",
        "            [0,2]])\n",
        "\n",
        "\n",
        "a=np.array([[--2.87],[1.16]])\n",
        "b=np.array([[-0.48],[-0.63]])\n",
        "c=np.array([[1.21],[1.61]])\n",
        "d=np.array([[3],[-0.99]])\n",
        "e=np.array([[-1.08],[-1.43]])\n",
        "\n",
        "print(np.matmul(m,a))\n",
        "print(np.matmul(m,b))\n",
        "print(np.matmul(m,c))\n",
        "print(np.matmul(m,d))\n",
        "print(np.matmul(m,e))\n",
        "\n",
        "\n",
        "\n"
      ],
      "execution_count": null,
      "outputs": [
        {
          "output_type": "stream",
          "text": [
            "[[4.305]\n",
            " [2.32 ]]\n",
            "[[-0.72]\n",
            " [-1.26]]\n",
            "[[1.815]\n",
            " [3.22 ]]\n",
            "[[ 4.5 ]\n",
            " [-1.98]]\n",
            "[[-1.62]\n",
            " [-2.86]]\n"
          ],
          "name": "stdout"
        }
      ]
    }
  ]
}